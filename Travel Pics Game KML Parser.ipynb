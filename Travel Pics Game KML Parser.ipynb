{
 "cells": [
  {
   "cell_type": "code",
   "execution_count": 1,
   "id": "34f11ad8",
   "metadata": {},
   "outputs": [
    {
     "name": "stdout",
     "output_type": "stream",
     "text": [
      "Requirement already satisfied: geopy in c:\\users\\lumin\\anaconda3\\lib\\site-packages (2.2.0)\n",
      "Requirement already satisfied: geographiclib<2,>=1.49 in c:\\users\\lumin\\anaconda3\\lib\\site-packages (from geopy) (1.52)\n",
      "Note: you may need to restart the kernel to use updated packages.\n"
     ]
    }
   ],
   "source": [
    "pip install geopy"
   ]
  },
  {
   "cell_type": "code",
   "execution_count": 2,
   "id": "5a13e75a",
   "metadata": {},
   "outputs": [
    {
     "name": "stdout",
     "output_type": "stream",
     "text": [
      "Requirement already satisfied: pykml in c:\\users\\lumin\\anaconda3\\lib\\site-packages (0.2.0)\n",
      "Requirement already satisfied: lxml>=3.3.6 in c:\\users\\lumin\\anaconda3\\lib\\site-packages (from pykml) (4.6.3)\n",
      "Note: you may need to restart the kernel to use updated packages.\n"
     ]
    }
   ],
   "source": [
    "pip install pykml"
   ]
  },
  {
   "cell_type": "code",
   "execution_count": 3,
   "id": "99fa8f76",
   "metadata": {},
   "outputs": [],
   "source": [
    "import geopy\n",
    "from geopy import distance, point\n",
    "from pykml import parser\n",
    "from os import path\n",
    "from bs4 import BeautifulSoup\n",
    "import math\n",
    "from operator import itemgetter, attrgetter"
   ]
  },
  {
   "cell_type": "code",
   "execution_count": 48,
   "id": "a567d247",
   "metadata": {},
   "outputs": [],
   "source": [
    "#kml_file = 'F:\\\\Data\\\\travelpicsus\\\\#24 TX - US Travel Pics Game.kml'\n",
    "kml_file = 'F:\\\\Data\\\\travelpicsworld\\\\#24 New Zealand - Travel Pics Game.kml'"
   ]
  },
  {
   "cell_type": "code",
   "execution_count": 49,
   "id": "77c6844c",
   "metadata": {},
   "outputs": [],
   "source": [
    "with open(kml_file, 'r') as f:\n",
    "    soup = BeautifulSoup(f)"
   ]
  },
  {
   "cell_type": "code",
   "execution_count": 50,
   "id": "1a1abb3f",
   "metadata": {},
   "outputs": [],
   "source": [
    "names = soup.findAll('name')[3:]\n",
    "coordinates = soup.findAll('coordinates')[1:]\n",
    "tmpgoal = soup.find('coordinates').contents[0].split()[0].split(sep = ',')\n",
    "goal = point.Point(tmpgoal[1], tmpgoal[0])"
   ]
  },
  {
   "cell_type": "code",
   "execution_count": 51,
   "id": "9ac5a826",
   "metadata": {},
   "outputs": [],
   "source": [
    "i = 0\n",
    "\n",
    "for n in names:\n",
    "    names[i] = n.contents[0]\n",
    "    i += 1"
   ]
  },
  {
   "cell_type": "code",
   "execution_count": 52,
   "id": "a64441e8",
   "metadata": {},
   "outputs": [],
   "source": [
    "coords = []\n",
    "\n",
    "for c in coordinates:\n",
    "    tmpc = c.contents[0].split()[0].split(sep=',')\n",
    "    coords.append(point.Point(tmpc[1], tmpc[0]))"
   ]
  },
  {
   "cell_type": "code",
   "execution_count": 53,
   "id": "df848e25",
   "metadata": {},
   "outputs": [],
   "source": [
    "kmdists = []\n",
    "\n",
    "for c in coords:\n",
    "    kmdists.append(distance.distance(goal, c).km)"
   ]
  },
  {
   "cell_type": "code",
   "execution_count": 54,
   "id": "ee375dae",
   "metadata": {},
   "outputs": [],
   "source": [
    "geoscores = []\n",
    "\n",
    "for k in kmdists:\n",
    "    #geoscores.append(int(round(5000 * math.exp(-k / 508.7), 0)))\n",
    "    geoscores.append(int(round(5000 * math.exp(-k / 2000), 0)))"
   ]
  },
  {
   "cell_type": "code",
   "execution_count": 55,
   "id": "6921e185",
   "metadata": {},
   "outputs": [],
   "source": [
    "#goal\n",
    "#names\n",
    "#coords\n",
    "#kmdists\n",
    "#geoscores"
   ]
  },
  {
   "cell_type": "code",
   "execution_count": 56,
   "id": "5fa79955",
   "metadata": {},
   "outputs": [],
   "source": [
    "overall = []\n",
    "\n",
    "i = 0\n",
    "while i < len(names):\n",
    "        overall.append([names[i], round(kmdists[i], 2), geoscores[i]])\n",
    "        i += 1"
   ]
  },
  {
   "cell_type": "code",
   "execution_count": 57,
   "id": "d0b8a66e",
   "metadata": {},
   "outputs": [],
   "source": [
    "ovrsrt = sorted(overall, key = itemgetter(2), reverse = True)"
   ]
  },
  {
   "cell_type": "code",
   "execution_count": 58,
   "id": "c8a80d94",
   "metadata": {},
   "outputs": [
    {
     "name": "stdout",
     "output_type": "stream",
     "text": [
      "Kodiak\t57.69\t4858\n",
      "Cascadia\t114.34\t4722\n",
      "Lumin\t323.82\t4253\n",
      "DrWhoFanJ\t546.32\t3805\n",
      "Carpographer\t2377.75\t1523\n",
      "Sup3r_poop\t2383.15\t1519\n",
      "UltraTech\t7165.48\t139\n",
      "Nina\t7159.14\t139\n",
      "Finland Taipan\t7167.97\t139\n",
      "RC\t7163.52\t139\n",
      "Toro\t8662.62\t66\n",
      "JayDoo\t10453.98\t27\n",
      "Chicago Geographer\t10424.7\t27\n",
      "Jay the Masshole\t12819.91\t8\n",
      "Guessther\t19474.87\t0\n"
     ]
    }
   ],
   "source": [
    "for p in ovrsrt:\n",
    "    print(p[0] + '\\t' + str(p[1]) + '\\t' + str(p[2]))"
   ]
  },
  {
   "cell_type": "code",
   "execution_count": null,
   "id": "23be20ec",
   "metadata": {},
   "outputs": [],
   "source": []
  },
  {
   "cell_type": "code",
   "execution_count": null,
   "id": "1d6ffe45",
   "metadata": {},
   "outputs": [],
   "source": []
  }
 ],
 "metadata": {
  "kernelspec": {
   "display_name": "Python 3 (ipykernel)",
   "language": "python",
   "name": "python3"
  },
  "language_info": {
   "codemirror_mode": {
    "name": "ipython",
    "version": 3
   },
   "file_extension": ".py",
   "mimetype": "text/x-python",
   "name": "python",
   "nbconvert_exporter": "python",
   "pygments_lexer": "ipython3",
   "version": "3.9.7"
  }
 },
 "nbformat": 4,
 "nbformat_minor": 5
}
